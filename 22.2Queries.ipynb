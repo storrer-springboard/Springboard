{
 "cells": [
  {
   "cell_type": "markdown",
   "metadata": {},
   "source": [
    "Here is the code to access the forumdb on our Ubuntu instance:\n",
    "```shell\n",
    "sudo service postgresql start\n",
    "psql\n",
    "```\n",
    "```psql\n",
    "chris=# \\c forumdb\n",
    "```"
   ]
  },
  {
   "cell_type": "markdown",
   "metadata": {},
   "source": [
    "# Queries\n",
    "The process of retrieving or the command to retrieve data from a database is called a query. In SQL the `SELECT` command is used to specify queries.\n",
    "# The `SELECT` command\n",
    "The general syntax of the `SELECT` command is:\n",
    "```sql\n",
    "SELECT column_name(s)\n",
    "FROM table_expression\n",
    "WHERE condition(s);\n",
    "```\n",
    "## `SELECT * from tablename;`\n",
    "The select command is executed in order to retrieve rows from a table (relation).\n",
    "## `forumdb=# select * from users;`\n",
    "```\n",
    " pk | username | gecos | email\n",
    "----+----------+-------+-------\n",
    "(0 rows)\n",
    "```\n",
    "With this SQL statement, PostgreSQL returns all the data present in all the fields of the table `users`.\n",
    "### Note: `forumdb=# select pk,username,gecos,email from users;` returns the same results as `forumdb=# select * from users;`\n",
    "# The value `*`\n",
    "The value * specifies all the fields present."
   ]
  },
  {
   "cell_type": "markdown",
   "metadata": {},
   "source": [
    "# LIMIT\n",
    "The LIMIT keyword is used to limit the number of rows returned by a SELECT statement."
   ]
  },
  {
   "cell_type": "code",
   "execution_count": null,
   "metadata": {},
   "outputs": [],
   "source": [
    "/* Return the first five results */\n",
    "select author, length(author) from books limit 5;\n",
    "/* \n",
    "       author        | length \n",
    "---------------------+--------\n",
    " Don Norman          |     10 \n",
    " Gerald Tenenbaum    |     16 \n",
    " Edwin A. Abbott     |     15 \n",
    " Mark Z. Danielewski |     19 \n",
    " Kyle Simpson        |     12 \n",
    "(5 rows)                      \n",
    " */"
   ]
  },
  {
   "cell_type": "markdown",
   "metadata": {},
   "source": [
    "# WHERE\n",
    "The where clause is used to find the rows in a table that match a given condition. Note that strings (pieces of text that are data) should be in 'single quotes'."
   ]
  },
  {
   "cell_type": "code",
   "execution_count": null,
   "id": "9e306349-31f3-4fbc-91d3-74da04c008ac",
   "metadata": {},
   "outputs": [],
   "source": [
    "-- Shows the population of France\n",
    "SELECT population FROM world\n",
    "  WHERE name = 'France'\n",
    "-- Shows the population of Germany \n",
    "SELECT population FROM world\n",
    "  WHERE name = 'Germany'\n",
    "/* \n",
    "population\n",
    "80716000\n",
    " */\n"
   ]
  },
  {
   "cell_type": "markdown",
   "metadata": {},
   "source": [
    "# `IN`\n",
    "In allows us to check if a value is in a provided list. It works in combination with WHERE.\n",
    "## The list is provided as a string, separated by commas, all inside of parentheses.\n",
    "`WHERE word IN('this', 'is', 'a', 'list');`"
   ]
  },
  {
   "cell_type": "code",
   "execution_count": null,
   "metadata": {},
   "outputs": [],
   "source": [
    "--The example shows the name and population for the countries 'Brazil', 'Russia', 'India' and 'China'.\n",
    "SELECT name, population FROM world\n",
    "  WHERE name IN ('Brazil', 'Russia', 'India', 'China');\n",
    "\n",
    "-- Show the name and the population for 'Sweden', 'Norway' and 'Denmark'.\n",
    "SELECT name, population FROM world\n",
    "  WHERE name IN ('Sweden', 'Norway', 'Denmark');\n",
    "  /* \n",
    "name\tpopulation\n",
    "Denmark\t5634437\n",
    "Norway\t5124383\n",
    "Sweden\t9675885\n",
    " */"
   ]
  },
  {
   "cell_type": "markdown",
   "metadata": {},
   "source": [
    "# BETWEEN \n",
    "`BETWEEN` allows range checking (range specified is inclusive of boundary values)"
   ]
  },
  {
   "cell_type": "code",
   "execution_count": null,
   "metadata": {},
   "outputs": [],
   "source": [
    "--The example below shows countries with an area between 250,000 and 300,000 sq. km.\n",
    "SELECT name, area FROM world\n",
    "  WHERE area BETWEEN 250000 AND 300000\n",
    "--Modify it to show the country and the area for countries with an area between 200,000 and 250,000.\n",
    "SELECT name, area FROM world\n",
    "  WHERE area BETWEEN 200000 AND 250000\n",
    "/* name\tarea\n",
    "Belarus\t207600\n",
    "Ghana\t238533\n",
    "Guinea\t245857\n",
    "Guyana\t214969\n",
    "Laos\t236800\n",
    "Romania\t238391\n",
    "Uganda\t241550 */"
   ]
  },
  {
   "cell_type": "markdown",
   "metadata": {},
   "source": [
    "# SQLZOO practice\n",
    "## table `world` in `sqlzoo` database\n",
    "## relation name: world\n",
    "## attribute names: name\tcontinent\tarea\tpopulation\tgdp\n",
    "1. The example uses a WHERE clause to show the population of 'France'. Note that strings (pieces of text that are data) should be in 'single quotes';\n",
    "- Modify it to show the population of Germany"
   ]
  },
  {
   "cell_type": "markdown",
   "metadata": {},
   "source": [
    "## Question 13. from Select from the world table in sqlzoo [link](https://www.sqlzoo.net/wiki/SELECT_from_WORLD_Tutorial.html)"
   ]
  },
  {
   "cell_type": "code",
   "execution_count": null,
   "metadata": {},
   "outputs": [],
   "source": [
    "-- Select the country that has each vowel and no spaces in its name.\n",
    "select name from world where name like '%a%' and name like '%e%' and name like '%i%' and name like '%o%' and name like '%u%' and name not like '% %';"
   ]
  },
  {
   "cell_type": "code",
   "execution_count": null,
   "metadata": {},
   "outputs": [],
   "source": [
    "-- Show the countries which have a name that includes the word 'United'\n",
    "select name from world where name like '%United%';"
   ]
  },
  {
   "cell_type": "markdown",
   "metadata": {},
   "source": [
    "# `OR` Inclusive `OR`"
   ]
  },
  {
   "cell_type": "code",
   "execution_count": null,
   "metadata": {},
   "outputs": [],
   "source": [
    "-- Show the countries that are big by area or big by population. Show name, population and area. A country is big if it has an area of more than 3 million sq km or it has a population of more than 250 million.\n",
    "select name, population, area from world where area > 3000000 or population > 250000000;\n"
   ]
  },
  {
   "cell_type": "markdown",
   "metadata": {},
   "source": [
    "# `XOR` `Exclusive OR`"
   ]
  },
  {
   "cell_type": "code",
   "execution_count": null,
   "metadata": {},
   "outputs": [],
   "source": [
    "--  Show the countries that are big by area (more than 3 million) or big by population (more than 250 million) but not both. Show name, population and area.\n",
    "select name, population, area from world where area > 3000000 and population > 250000000 and area < population;"
   ]
  }
 ],
 "metadata": {
  "interpreter": {
   "hash": "0aba4513e212030ab87d94c02b915be6719b318de8d02a9386e2640cb329564f"
  },
  "kernelspec": {
   "display_name": "SQL",
   "language": "SQL",
   "name": "python3712jvsc74a57bd00aba4513e212030ab87d94c02b915be6719b318de8d02a9386e2640cb329564f"
  },
  "language_info": {
   "codemirror_mode": {
    "name": "ipython",
    "version": 3
   },
   "file_extension": ".py",
   "mimetype": "text/x-python",
   "name": "SQL",
   "nbconvert_exporter": "python",
   "pygments_lexer": "ipython3",
   "version": "3.7.12"
  }
 },
 "nbformat": 4,
 "nbformat_minor": 5
}
