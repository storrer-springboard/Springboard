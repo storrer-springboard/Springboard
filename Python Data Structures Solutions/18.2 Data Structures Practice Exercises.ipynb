{
 "cells": [
  {
   "cell_type": "markdown",
   "metadata": {},
   "source": [
    "# 1 product.py"
   ]
  },
  {
   "cell_type": "code",
   "execution_count": 1,
   "metadata": {},
   "outputs": [
    {
     "name": "stdout",
     "output_type": "stream",
     "text": [
      "!!!!!!!!!!\n"
     ]
    }
   ],
   "source": [
    "def product(a, b):\n",
    "    \"\"\"Return product of a and b.\n",
    "\n",
    "    \"\"\"\n",
    "    return a*b\n",
    "print(product(\"!\", 10))"
   ]
  },
  {
   "cell_type": "markdown",
   "metadata": {},
   "source": [
    "# 2 weekday_name.py"
   ]
  },
  {
   "cell_type": "code",
   "execution_count": 2,
   "metadata": {},
   "outputs": [
    {
     "name": "stdout",
     "output_type": "stream",
     "text": [
      "Tuesday\n",
      "None\n"
     ]
    }
   ],
   "source": [
    "def weekday_name(day_of_week):\n",
    "    \"\"\"Return name of weekday.\n",
    "\n",
    "    \"\"\"\n",
    "    days = [None, \"Sunday\", \"Monday\", \"Tuesday\", \"Wednesday\", \"Thursday\", \"Friday\", \"Saturday\"]\n",
    "    if day_of_week > 7 or day_of_week < 1:\n",
    "        return None\n",
    "    else:\n",
    "        return days[day_of_week]\n",
    "print(weekday_name(3))\n",
    "print(weekday_name(.5))"
   ]
  },
  {
   "cell_type": "markdown",
   "metadata": {},
   "source": [
    "# 3 last_element.py"
   ]
  },
  {
   "cell_type": "code",
   "execution_count": 3,
   "metadata": {},
   "outputs": [
    {
     "name": "stdout",
     "output_type": "stream",
     "text": [
      "3\n",
      "None\n"
     ]
    }
   ],
   "source": [
    "def last_element(lst):\n",
    "    \"\"\"Return last item in list (None if list is empty.\n",
    "\n",
    "    \"\"\"\n",
    "    if not lst:\n",
    "        return None\n",
    "    else:\n",
    "        return lst[-1]\n",
    "print(last_element([1,2,3]))\n",
    "print(last_element([]))"
   ]
  },
  {
   "cell_type": "markdown",
   "metadata": {},
   "source": [
    "# 4 number_compare"
   ]
  },
  {
   "cell_type": "code",
   "execution_count": 4,
   "metadata": {},
   "outputs": [],
   "source": [
    "def number_compare(a, b):\n",
    "    \"\"\"Report on whether a>b, b>a, or b==a\n",
    "    \n",
    "\n",
    "    \"\"\"\n",
    "    if a == b:\n",
    "        return 'Numbers are equal' \n",
    "    elif a < b:  \n",
    "        return 'Second is greater'\n",
    "    else:\n",
    "        return 'First is greater'"
   ]
  },
  {
   "cell_type": "markdown",
   "metadata": {},
   "source": [
    "# 5 reverse string"
   ]
  },
  {
   "cell_type": "code",
   "execution_count": 5,
   "metadata": {},
   "outputs": [
    {
     "name": "stdout",
     "output_type": "stream",
     "text": [
      "olleh\n",
      "54321\n"
     ]
    }
   ],
   "source": [
    "def reverse_string(phrase):\n",
    "    \"\"\"Reverse string,\n",
    "\n",
    "    \"\"\"\n",
    "    chars = list(phrase)\n",
    "    chars.reverse()\n",
    "    return \"\".join(chars)\n",
    "print(reverse_string(\"hello\"))\n",
    "print(reverse_string(\"12345\"))"
   ]
  },
  {
   "cell_type": "markdown",
   "metadata": {},
   "source": [
    "# 5 reverse string using start:stop:stride\n",
    "## items start through stop-1\n",
    "`a[start:stop]`\n",
    "## items start through the rest of the array\n",
    "`a[start:]`\n",
    "## items from the beginning through stop-1\n",
    "`a[:stop]`\n",
    "## a copy of the whole array\n",
    "`a[:]`\n",
    "## last item in the array\n",
    "`a[-1]`\n",
    "## last two items in the array    \n",
    "`a[-2:]`\n",
    "## everything except the last two items\n",
    "`a[:-2]`\n"
   ]
  },
  {
   "cell_type": "code",
   "execution_count": 6,
   "metadata": {},
   "outputs": [
    {
     "name": "stdout",
     "output_type": "stream",
     "text": [
      "olleh thing[-1::-1]\n",
      "olleh word[::-1]\n"
     ]
    }
   ],
   "source": [
    "word = \"hello\"\n",
    "word[-1] # \"o\"\n",
    "word[::-2] # \"olh\"\n",
    "\n",
    "word[::-1] # \"olleh\"\n",
    "def negstride(thing):\n",
    "    print(thing[-1::-1], \"thing[-1::-1]\")\n",
    "    return thing[::-1]\n",
    "print(negstride(word), \"word[::-1]\")"
   ]
  },
  {
   "cell_type": "markdown",
   "metadata": {},
   "source": [
    "# negative stride\n"
   ]
  },
  {
   "cell_type": "code",
   "execution_count": 7,
   "metadata": {},
   "outputs": [
    {
     "name": "stdout",
     "output_type": "stream",
     "text": [
      "ruojnob\n",
      "ob\n",
      "ru\n",
      "ojnob\n"
     ]
    }
   ],
   "source": [
    "word = \"bonjour\"\n",
    "print(word[::-1]) # all items in the array, reversed\n",
    "print(word[1::-1]) # first two items in reverse\n",
    "print(word[:-3:-1]) # last two items (-1,-2) reversed\n",
    "print(word[-3::-1]) # all items reversed, ommiting -2 and -1"
   ]
  },
  {
   "cell_type": "markdown",
   "metadata": {},
   "source": [
    "# 6 single letter occurrence count"
   ]
  },
  {
   "cell_type": "code",
   "execution_count": 8,
   "metadata": {},
   "outputs": [
    {
     "name": "stdout",
     "output_type": "stream",
     "text": [
      "2\n"
     ]
    }
   ],
   "source": [
    "def single_letter_count(word, letter):\n",
    "    \"\"\"How many times does letter appear in word (case-insensitively)?\n",
    "    \n",
    " \n",
    "    \"\"\"\n",
    "    lword = word.lower()\n",
    "    count = lword.count(letter.lower())\n",
    "    return count\n",
    "print(single_letter_count(\"YOLO\", \"O\"))"
   ]
  },
  {
   "cell_type": "markdown",
   "metadata": {},
   "source": [
    "# 7 multiple letter count"
   ]
  },
  {
   "cell_type": "code",
   "execution_count": 9,
   "metadata": {},
   "outputs": [
    {
     "name": "stdout",
     "output_type": "stream",
     "text": [
      "{'y': 1, 'a': 1, 'Y': 1}\n"
     ]
    }
   ],
   "source": [
    "def multiple_letter_count(phrase):\n",
    "    \"\"\"Return dict of {ltr: frequency} from phrase.\n",
    "    \"\"\"\n",
    "    # make a set of each unique letter in phrase\n",
    "    #  phrase.count(letter) for each unique letter in phrase\n",
    "    #       store the result in dict\n",
    "    unique_letters = set(phrase)\n",
    "    letter_count = dict()\n",
    "    for letter in unique_letters:\n",
    "        letter_count[letter] = phrase.count(letter)\n",
    "    return letter_count\n",
    "print(multiple_letter_count(\"Yay\"))"
   ]
  },
  {
   "cell_type": "markdown",
   "metadata": {},
   "source": [
    "# 8 list manipulation"
   ]
  },
  {
   "cell_type": "code",
   "execution_count": 10,
   "metadata": {},
   "outputs": [
    {
     "name": "stdout",
     "output_type": "stream",
     "text": [
      "1\n"
     ]
    }
   ],
   "source": [
    "def list_manipulation(lst, command, location, value=None):\n",
    "    \"\"\"Mutate lst to add/remove from beginning or end.\n",
    "\n",
    "    - lst: list of values\n",
    "    - command: command, either \"remove\" or \"add\"\n",
    "    - location: location to remove/add, either \"beginning\" or \"end\"\n",
    "    - value: when adding, value to add\n",
    "\n",
    "  \n",
    "    \"\"\"\n",
    "    # validate input\n",
    "    if (command != 'add') and (command != 'remove'):\n",
    "        #print(\"invalid input\")\n",
    "        return None\n",
    "    elif (location != \"beginning\") and (location != \"end\"):\n",
    "        #print(\"invalid location\")\n",
    "        return None\n",
    "\n",
    "    # figure out which command to do\n",
    "    if command == \"add\":\n",
    "        if location == \"end\":\n",
    "            #print('adding to the end')\n",
    "            lst.append(value)\n",
    "            return lst\n",
    "        elif location == \"beginning\":\n",
    "            lst.insert(0,value)\n",
    "            return lst\n",
    "    if command == \"remove\":\n",
    "        if location == \"beginning\":\n",
    "            return lst.pop(0)\n",
    "        elif location == \"end\":\n",
    "            return lst.pop()\n",
    "lst = [1, 2, 3]\n",
    "list_manipulation(lst, 'remove', 'end')\n",
    "print(list_manipulation(lst, 'remove', 'beginning'))\n"
   ]
  },
  {
   "cell_type": "markdown",
   "metadata": {},
   "source": [
    "# 9 Is_Palindrome"
   ]
  },
  {
   "cell_type": "code",
   "execution_count": 11,
   "metadata": {},
   "outputs": [
    {
     "data": {
      "text/plain": [
       "False"
      ]
     },
     "execution_count": 11,
     "metadata": {},
     "output_type": "execute_result"
    }
   ],
   "source": [
    "def is_palindrome(phrase):\n",
    "    \"\"\"Is phrase a palindrome?\n",
    "\n",
    "    Return True/False if phrase is a palindrome (same read backwards and\n",
    "    forwards).\n",
    "\n",
    "      \n",
    "    \"\"\"\n",
    "    reverse = phrase[::-1].replace(\" \",\"\")\n",
    "    no_spaces = phrase.replace(\" \",\"\")\n",
    "    if reverse.lower() == no_spaces.lower():\n",
    "        return True\n",
    "    else:\n",
    "        return False\n",
    "is_palindrome(\"Noon\")\n",
    "is_palindrome('robert')"
   ]
  },
  {
   "cell_type": "markdown",
   "metadata": {},
   "source": [
    "# 10 frequency"
   ]
  },
  {
   "cell_type": "code",
   "execution_count": 12,
   "metadata": {},
   "outputs": [],
   "source": [
    "def frequency(lst, search_term):\n",
    "    \"\"\"Return frequency of term in lst.\n",
    "    \n",
    "    \"\"\"\n",
    "    return lst.count(search_term)"
   ]
  },
  {
   "cell_type": "markdown",
   "metadata": {},
   "source": [
    "# 11 flip_case"
   ]
  },
  {
   "cell_type": "code",
   "execution_count": 13,
   "metadata": {},
   "outputs": [],
   "source": [
    "def flip_case(phrase, to_swap):\n",
    "    \"\"\"Flip [to_swap] case each time it appears in phrase.\n",
    "\n",
    "      \n",
    "\n",
    "    \"\"\"\n",
    "    lswap = to_swap.lower()\n",
    "    swapped = \"\"\n",
    "    for letter in phrase:\n",
    "        if (letter.lower() == lswap):\n",
    "            swapped += letter.swapcase()\n",
    "        else:\n",
    "            swapped += letter\n",
    "    return swapped"
   ]
  },
  {
   "cell_type": "markdown",
   "metadata": {},
   "source": [
    "# 12 multiply even numbers"
   ]
  },
  {
   "cell_type": "code",
   "execution_count": 14,
   "metadata": {},
   "outputs": [
    {
     "data": {
      "text/plain": [
       "1"
      ]
     },
     "execution_count": 14,
     "metadata": {},
     "output_type": "execute_result"
    }
   ],
   "source": [
    "def multiply_even_numbers(nums):\n",
    "    \"\"\"Multiply the even numbers.\n",
    "    \n",
    "      \n",
    "    \"\"\"\n",
    "    # check for even number\n",
    "    product = 1\n",
    "    for number in nums:\n",
    "        if number % 2: # if number is odd it will have 0/False remainder\n",
    "            continue\n",
    "        else:\n",
    "            product *= number\n",
    "    return product\n",
    "multiply_even_numbers([1, 3, 5])"
   ]
  },
  {
   "cell_type": "markdown",
   "metadata": {},
   "source": [
    "# 13 capitalize"
   ]
  },
  {
   "cell_type": "code",
   "execution_count": 15,
   "metadata": {},
   "outputs": [],
   "source": [
    "def capitalize(phrase):\n",
    "    \"\"\"Capitalize first letter of first word of phrase.\n",
    "\n",
    "    \"\"\"\n",
    "    return phrase.capitalize()"
   ]
  },
  {
   "cell_type": "markdown",
   "metadata": {},
   "source": [
    "# 14 compact"
   ]
  },
  {
   "cell_type": "code",
   "execution_count": 16,
   "metadata": {},
   "outputs": [],
   "source": [
    "def compact(lst):\n",
    "    \"\"\"Return a copy of lst with non-true elements removed.\n",
    "\n",
    "    \"\"\"\n",
    "    true_list = []\n",
    "    for element in lst:\n",
    "        if element:\n",
    "            true_list.append(element)\n",
    "    return true_list"
   ]
  },
  {
   "cell_type": "markdown",
   "metadata": {},
   "source": [
    "# 15 intersection"
   ]
  },
  {
   "cell_type": "code",
   "execution_count": 17,
   "metadata": {},
   "outputs": [],
   "source": [
    "def intersection(l1, l2):\n",
    "    \"\"\"Return intersection of two lists as a new list::\n",
    "\n",
    "    \"\"\"\n",
    "    one = set(l1)\n",
    "    two = set(l2)\n",
    "    intersect = one & two\n",
    "    return list(intersect)"
   ]
  },
  {
   "cell_type": "markdown",
   "metadata": {},
   "source": [
    "# 16 Partition"
   ]
  },
  {
   "cell_type": "code",
   "execution_count": 18,
   "metadata": {},
   "outputs": [],
   "source": [
    "def partition(lst, fn):\n",
    "    \"\"\"Partition lst by predicate.\n",
    "\n",
    "    \"\"\"\n",
    "    trues = []\n",
    "    falses = []\n",
    "    for element in lst:\n",
    "        if fn(element):\n",
    "            trues.append(element)\n",
    "        else:\n",
    "            falses.append(element)\n",
    "    divided = []\n",
    "    divided.append(trues)\n",
    "    divided.append(falses)\n",
    "    return divided"
   ]
  },
  {
   "cell_type": "markdown",
   "metadata": {},
   "source": [
    "# 17 Mode"
   ]
  },
  {
   "cell_type": "code",
   "execution_count": 19,
   "metadata": {},
   "outputs": [],
   "source": [
    "def mode(nums):\n",
    "    \"\"\"Return most-common number in list.\n",
    "\n",
    "    For this function, there will always be a single-most-common value;\n",
    "    you do not need to worry about handling cases where more than one item\n",
    "    occurs the same number of times.\n",
    "\n",
    "\n",
    "    \"\"\"\n",
    "    the_mode = 0\n",
    "    for number in nums:\n",
    "        if nums.count(number) > the_mode:\n",
    "            the_mode = number\n",
    "    return the_mode\n"
   ]
  },
  {
   "cell_type": "markdown",
   "metadata": {},
   "source": [
    "# 18 Calculate"
   ]
  },
  {
   "cell_type": "code",
   "execution_count": 20,
   "metadata": {},
   "outputs": [],
   "source": [
    "def calculate(operation, a, b, make_int=False, message='The result is'):\n",
    "    \"\"\"Perform operation on a + b, ()possibly truncating) & returning w/msg.\n",
    "\n",
    "    - operation: 'add', 'subtract', 'multiply', or 'divide'\n",
    "    - a and b: values to operate on\n",
    "    - make_int: (optional, defaults to False) if True, truncates to integer\n",
    "    - message: (optional) message to use (if not provided, use 'The result is')\n",
    "\n",
    "    Performs math operation (truncating if make_int), then returns as\n",
    "    \"[message] [result]\"\n",
    "    \"\"\"\n",
    "    if operation != \"add\" and operation != \"subtract\" and operation != \"multiply\" and operation != \"divide\":\n",
    "        return None\n",
    "    \n",
    "    if operation == \"add\":\n",
    "        result = a + b\n",
    "    elif operation == \"subtract\":\n",
    "        result = a - b\n",
    "    elif operation == \"multiply\":\n",
    "        result = a * b\n",
    "    elif operation == \"divide\":\n",
    "        result = a / b\n",
    "\n",
    "\n",
    "\n",
    "\n",
    "    if make_int:\n",
    "        message += \" \" + repr(int(result))\n",
    "        return message\n",
    "    else:\n",
    "        message += \" \" + repr(result)\n",
    "        return message"
   ]
  },
  {
   "cell_type": "markdown",
   "metadata": {},
   "source": [
    "# 19 Friend date"
   ]
  },
  {
   "cell_type": "code",
   "execution_count": 21,
   "metadata": {},
   "outputs": [
    {
     "data": {
      "text/plain": [
       "False"
      ]
     },
     "execution_count": 21,
     "metadata": {},
     "output_type": "execute_result"
    }
   ],
   "source": [
    "def friend_date(a, b):\n",
    "    \"\"\"Given two friends, do they have any hobbies in common?\n",
    "\n",
    "    - a: friend #1, a tuple of (name, age, list-of-hobbies)\n",
    "    - b: same, for friend #2\n",
    "\n",
    "    Returns True if they have any hobbies in common, False is not.\n",
    "\n",
    "        True\n",
    "    \"\"\"\n",
    "    l1, l2 = a[2], b[2]\n",
    "    for x in l1:\n",
    "        for y in l2:\n",
    "            if y == x:\n",
    "                return True\n",
    "    return False\n",
    "\n",
    "elmo = ('Elmo', 5, ['hugging', 'being nice'])\n",
    "sauron = ('Sauron', 5000, ['killing hobbits', 'chess'])\n",
    "friend_date(elmo, sauron)"
   ]
  },
  {
   "cell_type": "markdown",
   "metadata": {},
   "source": [
    "# 19.1 Friend Date Using Sets\n",
    "## if the intersection of setfromtuplea and setfromtupleb is non-empty\n",
    " `if set(a[2]) & set(b[2]):`\n"
   ]
  },
  {
   "cell_type": "code",
   "execution_count": 22,
   "metadata": {},
   "outputs": [],
   "source": [
    "def friend_date2(a, b):\n",
    "    \"\"\"Given two friends, do they have sny hobbies in common?\n",
    "\n",
    "    - a: friend #1, a tuple of (name, age, list-of-hobbies)\n",
    "    - b: same, for friend #2\n",
    "\n",
    "    Returns True if they have any hobbies in common, False is not.\n",
    "\n",
    "    \"\"\"\n",
    "\n",
    "    if set(a[2]) & set(b[2]): \n",
    "        return True\n",
    "    else:\n",
    "        return False\n"
   ]
  },
  {
   "cell_type": "markdown",
   "metadata": {},
   "source": [
    "# 20 Triple and filter"
   ]
  },
  {
   "cell_type": "code",
   "execution_count": 23,
   "metadata": {},
   "outputs": [],
   "source": [
    "def triple_and_filter(nums):\n",
    "    \"\"\"Return new list of tripled nums for those nums divisible by 4.\n",
    "\n",
    "    Return every number in list that is divisible by 4 in a new list,\n",
    "    except multipled by 3.\n",
    "    \n",
    "  \n",
    "    \"\"\"\n",
    "    tripled = [num *3 for num in nums if num % 4 == 0]\n",
    "    return tripled\n"
   ]
  },
  {
   "cell_type": "markdown",
   "metadata": {},
   "source": [
    "# 21 Extract full name"
   ]
  },
  {
   "cell_type": "code",
   "execution_count": 24,
   "metadata": {},
   "outputs": [
    {
     "data": {
      "text/plain": [
       "['Ada Lovelace', 'Grace Hopper']"
      ]
     },
     "execution_count": 24,
     "metadata": {},
     "output_type": "execute_result"
    }
   ],
   "source": [
    "def extract_full_names(people):\n",
    "    \"\"\"Return list of names, extracting from first+last keys in people dicts.\n",
    "\n",
    "    - people: list of dictionaries, each with 'first' and 'last' keys for\n",
    "              first and last names\n",
    "\n",
    "    Returns list of space-separated first and last names.\n",
    "    \n",
    "\n",
    "    \"\"\" \n",
    "    space = \" \"\n",
    "    full_names = [(person[\"first\"] + space + person[\"last\"]) for person in people]\n",
    "\n",
    "    return full_names\n",
    "names = [\n",
    "    {'first': 'Ada', 'last': 'Lovelace'},\n",
    "    {'first': 'Grace', 'last': 'Hopper'},\n",
    "]\n",
    "extract_full_names(names)"
   ]
  },
  {
   "cell_type": "markdown",
   "metadata": {},
   "source": [
    "# 22 Sum floats"
   ]
  },
  {
   "cell_type": "code",
   "execution_count": 25,
   "metadata": {},
   "outputs": [],
   "source": [
    "def sum_floats(nums):\n",
    "    \"\"\"Return sum of floating point numbers in nums.\n",
    "    \n",
    "    \n",
    "    \"\"\"\n",
    "\n",
    "    # hint: to find out if something is a float, you should use the\n",
    "    # \"isinstance\" function --- research how to use this to find out\n",
    "    # if something is a float!\n",
    "    summation = 0\n",
    "    for number in nums:\n",
    "        if isinstance(number, float):\n",
    "            summation += number\n",
    "    return summation"
   ]
  },
  {
   "cell_type": "markdown",
   "metadata": {},
   "source": [
    "# 23 List check"
   ]
  },
  {
   "cell_type": "code",
   "execution_count": 26,
   "metadata": {},
   "outputs": [],
   "source": [
    "def list_check(lst):\n",
    "    \"\"\"Are all items in lst a list?\n",
    "\n",
    "\n",
    "    \"\"\"\n",
    "    for item in lst:\n",
    "        if not isinstance(item, list):\n",
    "            return False\n",
    "\n",
    "    return True"
   ]
  },
  {
   "cell_type": "markdown",
   "metadata": {},
   "source": [
    "# 24 Remove every other"
   ]
  },
  {
   "cell_type": "code",
   "execution_count": 27,
   "metadata": {},
   "outputs": [],
   "source": [
    "def remove_every_other(lst):\n",
    "    \"\"\"return every other item in a new list\"\"\"\n",
    "    every_other = lst[::2]\n",
    "    return every_other"
   ]
  },
  {
   "cell_type": "markdown",
   "metadata": {},
   "source": [
    "# 25 Sum of pairs"
   ]
  },
  {
   "cell_type": "code",
   "execution_count": 28,
   "metadata": {},
   "outputs": [
    {
     "data": {
      "text/plain": [
       "(4, 3)"
      ]
     },
     "execution_count": 28,
     "metadata": {},
     "output_type": "execute_result"
    }
   ],
   "source": [
    "def sum_pairs(nums, goal):\n",
    "    \"\"\"Return tuple of first pair of nums that sum to goal.\n",
    "\n",
    "\n",
    "    \"\"\"\n",
    "    # set of numbers previously used\n",
    "    seen = set()\n",
    "\n",
    "    for num2 in nums:\n",
    "        # valid numbers add up goal\n",
    "        match = goal - num2\n",
    "\n",
    "        # if present valid match number in seen return the tuple \n",
    "        if match in seen:\n",
    "            return (match, num2)\n",
    "        # else add number to set of seen numbers\n",
    "        seen.add(num2) \n",
    "    # if no pair sums to goal then return an empty tuple\n",
    "    return ()\n",
    "sum_pairs([5, 1, 4, 8, 3, 2], 7)"
   ]
  },
  {
   "cell_type": "markdown",
   "metadata": {},
   "source": [
    "# 26 vowel count"
   ]
  },
  {
   "cell_type": "code",
   "execution_count": 29,
   "metadata": {},
   "outputs": [],
   "source": [
    "def vowel_count(phrase):\n",
    "    \"\"\"Return frequency map of vowels, case-insensitive.\n",
    "    \"\"\"\n",
    "\n",
    "    lphrase = phrase.lower()\n",
    "    vowels = \"aeiou\"\n",
    "    count = {}\n",
    "    # returns a dict with vowels in order of occurrence\n",
    "    for letter in lphrase:\n",
    "        if letter in vowels:\n",
    "            count[letter] = lphrase.count(letter)\n",
    "            vowels.replace(letter,\"\")\n",
    "    return count\n",
    "    \"\"\"\n",
    "    This version does not pass the stupid tests because\n",
    "    the tests order the counted vowels in the dictionary\n",
    "    by occurrence.\n",
    "\n",
    "    Version 1\n",
    "    for vowel in vowels:\n",
    "        if vowel in lphrase:\n",
    "            count[vowel] = lphrase.count(vowel)\n",
    "    \"\"\""
   ]
  },
  {
   "cell_type": "markdown",
   "metadata": {},
   "source": [
    "# 27 titleize"
   ]
  },
  {
   "cell_type": "code",
   "execution_count": 30,
   "metadata": {},
   "outputs": [],
   "source": [
    "def titleize(phrase):\n",
    "    \"\"\"Return phrase in title case (each word capitalized).\n",
    "\n",
    "    \"\"\"\n",
    "    # using built-in function .title()\n",
    "    titleized = phrase.title()\n",
    "    return titleized"
   ]
  },
  {
   "cell_type": "markdown",
   "metadata": {},
   "source": [
    "# 28 find factors"
   ]
  },
  {
   "cell_type": "code",
   "execution_count": 31,
   "metadata": {},
   "outputs": [],
   "source": [
    "def find_factors(num):\n",
    "    \"\"\"Find factors of num, in increasing order.\n",
    "\n",
    "    \"\"\"\n",
    "    # possible integer factors are in the range such that:\n",
    "    # 1 <= possible factors <= (number / 2)\n",
    "    possible_factors = range(1, int(num / 2 + 1))\n",
    "    factors = [number for number in possible_factors if not num % number]\n",
    "    # lastly, add num to list\n",
    "    factors.append(num)\n",
    "    return factors\n"
   ]
  },
  {
   "cell_type": "markdown",
   "metadata": {},
   "source": [
    "# 29 includes"
   ]
  },
  {
   "cell_type": "code",
   "execution_count": 32,
   "metadata": {},
   "outputs": [],
   "source": [
    "def includes(collection, sought, start=None):\n",
    "    \"\"\"Is sought in collection, starting at index start?\n",
    "\n",
    "    Return True/False if sought is in the given collection:\n",
    "    - lists/strings/sets/tuples: returns True/False if sought present\n",
    "    - dictionaries: return True/False if *value* of sought in dictionary\n",
    "\n",
    "    If string/list/tuple and `start` is provided, starts searching only at that\n",
    "    index. This `start` is ignored for sets/dictionaries, since they aren't\n",
    "    ordered.\n",
    "\n",
    "    \"\"\"\n",
    "    # Check collection type\n",
    "\n",
    "    if isinstance(collection, set):\n",
    "        # if collection is a set return the result of this 'in' statement\n",
    "        return sought in collection\n",
    "  \n",
    "    if isinstance(collection,dict):\n",
    "        # look for sought in the _dict_values_ object from .values()\n",
    "        return sought in collection.values()\n",
    "\n",
    "    return sought in collection[start:]\n",
    "    \"\"\"    \n",
    "    Long Version:\n",
    "    if sought in collection[start:]:\n",
    "        return True\n",
    "    return False\"\"\""
   ]
  },
  {
   "cell_type": "markdown",
   "metadata": {},
   "source": [
    "# 30 repeat"
   ]
  },
  {
   "cell_type": "code",
   "execution_count": 33,
   "metadata": {},
   "outputs": [],
   "source": [
    "def repeat(phrase, num):\n",
    "    \"\"\"Return phrase, repeated num times.\n",
    "\n",
    "    \"\"\"\n",
    "    # validate num value    \n",
    "    if not isinstance(num, int):\n",
    "        return None\n",
    "    if num < 0:\n",
    "        return None\n",
    "    echo = phrase * num\n",
    "    return echo\n"
   ]
  },
  {
   "cell_type": "markdown",
   "metadata": {},
   "source": [
    "# 31 truncate"
   ]
  },
  {
   "cell_type": "code",
   "execution_count": 34,
   "metadata": {},
   "outputs": [],
   "source": [
    "def truncate(phrase, n):\n",
    "    \"\"\"Return truncated-at-n-chars version of  phrase.\n",
    "\n",
    "    \"\"\"\n",
    "    \n",
    "    msg = 'Truncation must be at least 3 characters.'\n",
    "    if n < 3:\n",
    "        return msg\n",
    "    # if n is large enough for the whole phrase, do nothing\n",
    "    if n >= len(phrase) + 3:\n",
    "        return phrase\n",
    "    truncated = phrase[:n-3] + \"...\"\n",
    "    return truncated"
   ]
  },
  {
   "cell_type": "markdown",
   "metadata": {},
   "source": [
    "# 32 two list dictionary"
   ]
  },
  {
   "cell_type": "code",
   "execution_count": 35,
   "metadata": {},
   "outputs": [],
   "source": [
    "def two_list_dictionary(keys, values):\n",
    "    \"\"\"Given keys and values, make dictionary of those.\n",
    "\n",
    "    \"\"\"\n",
    "    new_dict = {}\n",
    "    for key in keys:\n",
    "        index = keys.index(key)\n",
    "        if index >= len(values):\n",
    "            new_dict[key] = None\n",
    "        else:\n",
    "            new_dict[key] = values[index]\n",
    " \n",
    "\n",
    "    return new_dict\n"
   ]
  },
  {
   "cell_type": "markdown",
   "metadata": {},
   "source": [
    "# 33 sum range"
   ]
  },
  {
   "cell_type": "code",
   "execution_count": 36,
   "metadata": {},
   "outputs": [],
   "source": [
    "def sum_range(nums, start=0, end=None):\n",
    "    \"\"\"Return sum of numbers from start...end.\n",
    "\n",
    "    - start: where to start (if not provided, start at list start)\n",
    "    - end: where to stop (include this index) (if not provided, go through end)\n",
    "\n",
    "    \"\"\"\n",
    "    # using the built in sum() function\n",
    "    summation = sum(nums[start:])\n",
    "    if end:\n",
    "        summation = sum(nums[start:end+1])\n",
    "    return summation\n",
    "    \n"
   ]
  },
  {
   "cell_type": "markdown",
   "metadata": {},
   "source": [
    "# 34 same freq"
   ]
  },
  {
   "cell_type": "code",
   "execution_count": 37,
   "metadata": {},
   "outputs": [],
   "source": [
    "def same_frequency(num1, num2):\n",
    "    # turn each number into a string\n",
    "    str1, str2 = repr(num1), repr(num2)\n",
    "    count1, count2 = {}, {}\n",
    "    digits = \"0123456789\"\n",
    "    for num in digits:\n",
    "        count1[num] = str1.count(num)\n",
    "        count2[num] = str2.count(num)\n",
    "    return count1 == count2\n"
   ]
  },
  {
   "cell_type": "markdown",
   "metadata": {},
   "source": [
    "# 35 two oldest"
   ]
  },
  {
   "cell_type": "code",
   "execution_count": 38,
   "metadata": {},
   "outputs": [],
   "source": [
    "def two_oldest_ages(ages):\n",
    "    \"\"\"Return two distinct oldest ages as tuple (second-oldest, oldest)..\n",
    "\n",
    "    \"\"\"\n",
    "\n",
    "    # NOTE: don't worry about an optimized runtime here; it's fine if\n",
    "    # you have a runtime worse than O(n)\n",
    "\n",
    "    # NOTE: you can sort lists with lst.sort(), which works in place (mutates)\n",
    "    # you may find it helpful to research the `sorted(iter)` function, which\n",
    "    # can take *any* type of list-like-thing, and returns a new, sorted list\n",
    "    # from it.\n",
    "    uniques = set(ages)\n",
    "    oldest = None\n",
    "    second_oldest = None\n",
    "    for age in uniques:\n",
    "        if oldest is None or age > oldest:\n",
    "            second_oldest = oldest\n",
    "            oldest = age\n",
    "        elif second_oldest is None or age > second_oldest:\n",
    "            second_oldest = age\n",
    "    return (second_oldest, oldest)"
   ]
  },
  {
   "cell_type": "markdown",
   "metadata": {},
   "source": [
    "# 36 find the duplicate"
   ]
  },
  {
   "cell_type": "code",
   "execution_count": 39,
   "metadata": {},
   "outputs": [],
   "source": [
    "def find_the_duplicate(nums):\n",
    "    \"\"\"Find duplicate number in nums.\n",
    "    Given a list of nums with, at most, one duplicate, return the duplicate.\n",
    "    If there is no duplicate, return None\n",
    "\n",
    "    \"\"\"\n",
    "    unique_numbers = set()\n",
    "    for number in nums:\n",
    "        if number not in unique_numbers:\n",
    "            unique_numbers.add(number)\n",
    "        elif number in unique_numbers:\n",
    "            return number"
   ]
  },
  {
   "cell_type": "markdown",
   "metadata": {},
   "source": [
    "# 37  sum up diagonals in a matrix\n",
    "## the key to this function's syntax is in the list notation[][] where I use\n",
    "## negative indices to access the 'last', 'second-to-last', 'third to last' elements\n",
    "## in order to access the TL-BR diagonal in a matrix. the first diagonal is easily found\n",
    "## because it's indices are always:\n",
    "`[0][0], [1][1], [2][2]`\n",
    "## the second diagonal is not so easily expressed without negative indices:\n",
    "`[0][-1] = [0][last element]`"
   ]
  },
  {
   "cell_type": "code",
   "execution_count": 40,
   "metadata": {},
   "outputs": [],
   "source": [
    "def sum_up_diagonals(matrix):\n",
    "    \"\"\"Given a matrix [square list of lists], return sum of diagonals.\n",
    "\n",
    "    Sum of TL-to-BR diagonal along with BL-to-TR diagonal:\n",
    "\n",
    "    \"\"\"\n",
    "    summation = 0\n",
    "    matrix_size = len(matrix)\n",
    "    #for element in\n",
    "    # range = [0,1,2, ... up to but excluding (n = len(matrix))]\n",
    "    for element in range(matrix_size):\n",
    "        # matrix[0][0] + matrix[1][1]+ matrix[highest row][highest column]\n",
    "        summation += matrix[element][element]\n",
    "        # matrix[0][-1] means get me the last element of row 0, i.e. the corner\n",
    "        # for element = 1, this evals to matrix[1][-1-1] = matrix[1][-2]\n",
    "        # i.e. the second to last element in the second row\n",
    "        summation += matrix[element][-element-1]  # matrix\n",
    "    return summation\n"
   ]
  },
  {
   "cell_type": "markdown",
   "metadata": {},
   "source": [
    "# 38 min max key in dictionary"
   ]
  },
  {
   "cell_type": "code",
   "execution_count": 41,
   "metadata": {},
   "outputs": [],
   "source": [
    "def min_max_keys(d):\n",
    "    \"\"\"Return tuple (min-keys, max-keys) in d.\n",
    "    \"\"\"\n",
    "    keys = d.keys() # get those keys\n",
    "    minim = min(keys) # call the dict method min on them keys\n",
    "    maxim = max(keys) # same thing\n",
    "    return (minim, maxim) # this casts a tuple\n"
   ]
  },
  {
   "cell_type": "markdown",
   "metadata": {},
   "source": [
    "# 39 find greater numbers"
   ]
  },
  {
   "cell_type": "code",
   "execution_count": 42,
   "metadata": {},
   "outputs": [],
   "source": [
    "def find_greater_numbers(nums):\n",
    "    \"\"\"Return # of times a number is followed by a greater number.\n",
    "\n",
    "    For example, for [1, 2, 3], the answer is 3:\n",
    "    - the 1 is followed by the 2 *and* the 3\n",
    "    - the 2 is followed by the 3\n",
    "\n",
    "  \n",
    "\n",
    "    \"\"\"\n",
    "    count = 0\n",
    "    for number in nums:\n",
    "        for other_numbers in nums:\n",
    "            if other_numbers > number and nums.index(other_numbers) > nums.index(number):\n",
    "                count += 1\n",
    "    return count"
   ]
  }
 ],
 "metadata": {
  "interpreter": {
   "hash": "2651b1ba7e282bebfa470cad3801714d5f274e2ba2602d4903b52dbcc7b5f30b"
  },
  "kernelspec": {
   "display_name": "Python 3.9.7 64-bit ('base': conda)",
   "name": "python3"
  },
  "language_info": {
   "codemirror_mode": {
    "name": "ipython",
    "version": 3
   },
   "file_extension": ".py",
   "mimetype": "text/x-python",
   "name": "python",
   "nbconvert_exporter": "python",
   "pygments_lexer": "ipython3",
   "version": "3.9.7"
  },
  "orig_nbformat": 4
 },
 "nbformat": 4,
 "nbformat_minor": 2
}
