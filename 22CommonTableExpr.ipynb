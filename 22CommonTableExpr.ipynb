{
 "cells": [
  {
   "cell_type": "markdown",
   "metadata": {},
   "source": [
    "# CTE Concept\n",
    "- A CTE, or a common table expression, is a temporary result taken from a SQL statement.\n",
    "- The lifetime of a CTE is equal to the lifetime of the query.\n",
    "# An Example CTE\n",
    "If, for example, we wanted to create a temporary dataset with all the posts written by the author `scotty`, we would have to write this:\n",
    "\n",
    "\n",
    "\n",
    "# WITH Queries aka Common Table Expressions aka CTEs for PostgreSQL\n",
    "- These statements, which are often referred to as Common Table Expressions or CTEs, can be thought of as defining temporary tables that exist just for one query.\n",
    "- `WITH` provides a way to write auxiliary statements for use in a larger query. \n",
    "- Each auxiliary statement in a WITH clause can be a SELECT, INSERT, UPDATE, or DELETE; and the WITH clause itself is attached to a primary statement that can also be a SELECT, INSERT, UPDATE, or DELETE.\n"
   ]
  },
  {
   "cell_type": "markdown",
   "metadata": {},
   "source": [
    "# `SELECT` in `WITH`"
   ]
  }
 ],
 "metadata": {
  "kernelspec": {
   "display_name": "SQL",
   "name": "python3712jvsc74a57bd00aba4513e212030ab87d94c02b915be6719b318de8d02a9386e2640cb329564f"
  },
  "language_info": {
   "name": "SQL"
  },
  "orig_nbformat": 4
 },
 "nbformat": 4,
 "nbformat_minor": 2
}
