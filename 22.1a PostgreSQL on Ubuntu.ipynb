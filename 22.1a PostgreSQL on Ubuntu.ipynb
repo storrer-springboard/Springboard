{
 "cells": [
  {
   "cell_type": "markdown",
   "metadata": {},
   "source": [
    "# Installing and Configuring Postgres on Ubuntu\n",
    "```sh\n",
    "sudo apt-get install postgresql\n",
    "```"
   ]
  },
  {
   "cell_type": "code",
   "execution_count": null,
   "metadata": {},
   "outputs": [],
   "source": [
    "sudo apt-get install postgresql"
   ]
  },
  {
   "cell_type": "markdown",
   "metadata": {},
   "source": [
    "## Checking postgres status"
   ]
  },
  {
   "cell_type": "code",
   "execution_count": null,
   "metadata": {},
   "outputs": [],
   "source": [
    "sudo service postgresql status"
   ]
  },
  {
   "cell_type": "markdown",
   "metadata": {},
   "source": [
    "## Starting postgresql service"
   ]
  },
  {
   "cell_type": "code",
   "execution_count": null,
   "metadata": {},
   "outputs": [],
   "source": [
    "sudo service postgresql start"
   ]
  },
  {
   "cell_type": "markdown",
   "metadata": {},
   "source": [
    "## stopping postgresql server"
   ]
  },
  {
   "cell_type": "code",
   "execution_count": null,
   "metadata": {},
   "outputs": [],
   "source": [
    "sudo service postgresql stop "
   ]
  },
  {
   "cell_type": "markdown",
   "metadata": {},
   "source": [
    "# Creating a user for postgresql on Ubuntu\n",
    "## this will create a psql user with our current username, it also creates a database with your username\n",
    "## `whoami` is a command that returns the current user"
   ]
  },
  {
   "cell_type": "markdown",
   "metadata": {},
   "source": [
    "# Starting psql\n",
    "## this is accompplished by running the following command: `psql`\n",
    "# To quit psql: `\\q`"
   ]
  },
  {
   "cell_type": "code",
   "execution_count": null,
   "metadata": {},
   "outputs": [],
   "source": [
    "psql # start psql\n",
    "\\q # quit psql"
   ]
  },
  {
   "cell_type": "markdown",
   "metadata": {},
   "source": [
    "# PostgreSQL interactive terminal: `psql`\n",
    "## SYNOPSIS\n",
    "       psql [option...] [dbname [username]]\n",
    "\n",
    "## DESCRIPTION\n",
    "- `psql` is a terminal-based front-end to PostgreSQL. \n",
    "- It enables you to type in queries interactively, issue them to PostgreSQL, and see the query results. \n",
    "- Alternatively, input can be from a file or from command line arguments. \n",
    "- In addition, `psql` provides a number of **meta-commands**, which are commands that are used to control the behavior of `psql`.\n",
    "- `psql` provides various shell-like features to facilitate writing scripts and automating a wide variety of tasks.\n",
    "\n",
    "## See `manpsql.txt` for more details"
   ]
  },
  {
   "cell_type": "markdown",
   "metadata": {},
   "source": [
    "# Basic `psql` commands\n",
    "## Run `psql` with the name of the database you want to connect to: `psql <dbname>`"
   ]
  },
  {
   "cell_type": "markdown",
   "metadata": {},
   "source": [
    "## A note on database names:\n",
    "- A good database name is lower snake case, with words separated by underscores."
   ]
  },
  {
   "cell_type": "markdown",
   "metadata": {},
   "source": [
    "# Creating a database\n",
    "## To create a database, run the following command: `createdb database_name`\n",
    "### Note: `createdb` is a command that creates a database"
   ]
  },
  {
   "cell_type": "markdown",
   "metadata": {},
   "source": [
    "## Where Is That Database?\n",
    "> The database is not a file in your current directory. It’s a bunch of files/folders elsewhere on your computer. These aren’t human-readable (they’re optimized for speed!)Saving your project in Git won’t save your database!"
   ]
  },
  {
   "cell_type": "markdown",
   "metadata": {},
   "source": [
    "# Seeding a Database\n",
    "- You can feed `.sql` scripts into the program `psql` to create tables and populate them with data.\n",
    "## To do this, use:\n",
    "# `psql` +  `<` + `filename.sql`\n",
    "# `psql < my_seed_script.sql`"
   ]
  },
  {
   "cell_type": "code",
   "execution_count": null,
   "metadata": {},
   "outputs": [],
   "source": [
    "psql < my_database.sql"
   ]
  },
  {
   "cell_type": "markdown",
   "metadata": {},
   "source": [
    "# Backing Up a Database\n",
    "## Dump a database to a file: \n",
    "`pg_dump` + `-C` + `-c` + `-O` + `database_name` + `>` + `backup_file.sql`"
   ]
  },
  {
   "cell_type": "code",
   "execution_count": null,
   "metadata": {},
   "outputs": [],
   "source": [
    "pg_dump -C -c -O my_database_name > backup.sql"
   ]
  },
  {
   "cell_type": "code",
   "execution_count": null,
   "metadata": {},
   "outputs": [],
   "source": [
    "pip install ipython-sql"
   ]
  }
 ],
 "metadata": {
  "interpreter": {
   "hash": "756a4ebea3336c99fae453fd080347b2989a50e6ff385ed632b7c17ab4e27e80"
  },
  "kernelspec": {
   "display_name": "Calysto Bash",
   "language": "bash",
   "name": "calysto_bash"
  },
  "language_info": {
   "codemirror_mode": {
    "name": "ipython",
    "version": 3
   },
   "file_extension": ".py",
   "mimetype": "text/x-python",
   "name": "bash",
   "nbconvert_exporter": "python",
   "pygments_lexer": "ipython3",
   "version": "3.10.0"
  },
  "orig_nbformat": 4
 },
 "nbformat": 4,
 "nbformat_minor": 2
}
