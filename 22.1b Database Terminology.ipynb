{
 "cells": [
  {
   "cell_type": "markdown",
   "metadata": {},
   "source": [
    "# Database Terminology"
   ]
  },
  {
   "cell_type": "markdown",
   "metadata": {},
   "source": [
    "# Relational Database Terminology\n",
    "\n"
   ]
  },
  {
   "cell_type": "markdown",
   "metadata": {},
   "source": [
    "# Terminology of PostgreSQL\n",
    "## RDMS\n",
    "RDMS stands for Relational Database Management System.\n",
    "Examples of RDMS include:\n",
    "- Oracle\n",
    "- MySQL\n",
    "- PostgreSQL\n",
    "  \n",
    "## Relational Database\n",
    "- A relational database is a digital database based on the relational model of data, as proposed by E. F. Codd in 1970.[1] \n",
    "- Relational databases store data in **tables**.\n",
    "- **Tables** are like a spreadsheet. They model data as rows and columns.\n",
    "> \"The relational model (RM) for database management is an approach to managing data using a structure and language consistent with first-order predicate logic, first described in 1969 by English computer scientist Edgar F. Codd,[1][2] where all data is represented in terms of tuples, grouped into relations. A database organized in terms of the relational model is a relational database.\"\n",
    "- Relational databases are often used to store data in a **schema**.\n",
    "- Schema    \n",
    "  \n",
    "## Cluster\n",
    "Users are defined at a cluster-wide level, which means they are not tied to a particular database in the cluster. A user can connect with and manage any database in the cluster they have been allowed to.\n",
    "\n",
    "## Schema\n",
    "A schema is a logical representation of a database including its tables/relations and their attributes.\n",
    "> \"A database can be organized into namespaces, called schemas. A schema is a mnemonic name that the user can assign to organize database objects, such as tables, into a more structured collection. Schemas cannot be nested, so they represent a flat namespace.\" - Learn PostgreSQL, pg 15\n",
    "```sql\n",
    "-- Create a schema\n",
    "CREATE SCHEMA myschema;\n",
    "--Create a schema for user joe; the schema will also be named joe:\n",
    "CREATE SCHEMA joe AUTHORIZATION joe;\n",
    "```\n",
    "\n",
    "\n",
    "\n"
   ]
  },
  {
   "cell_type": "markdown",
   "metadata": {},
   "source": [
    "# DML - Data Manipulation Language\n",
    "DML is a language that allows you to manipulate data in a database. DML is a subset of SQL that involves querying and manipulating records in existing tables.\n",
    "\n",
    "Most of the DML we use will be CRUD operations on rows(tuples) in a table."
   ]
  },
  {
   "cell_type": "markdown",
   "metadata": {},
   "source": [
    "# CRUD - Create, Read, Update, Delete\n",
    "Letter\tVerb\tSQL Commands\n",
    "C\t    Create\tINSERT INTO\n",
    "R\t    Read\tSELECT … FROM\n",
    "U\t    Update\tUPDATE … SET\n",
    "D\t    Delete\tDELETE FROM"
   ]
  },
  {
   "cell_type": "markdown",
   "metadata": {},
   "source": [
    "# Database Objects\n",
    "A database object is something a user can create and manage within the database. Each object belongs to exactly one schema. \n",
    "## Objects in PostgreSQL\n",
    "Every object belongs to **one** and only **one** schema that, if not specified, is the default public schema.\n",
    "## Other Database Objects\n",
    "> \"Tables are the central objects in a relational database structure, because they hold your data. But they are not the only objects that exist in a database. Many other kinds of objects can be created to make the use and management of the data more efficient or convenient.\" - https://www.postgresql.org/docs/12/ddl-others.html\n",
    "## Examples of other database objects include:\n",
    "- Views\n",
    "- Functions\n",
    "- Procedures\n",
    "- Triggers\n",
    "- Rewrite Rules\n",
    "- Operators\n",
    "- Data Types\n",
    "- Domains"
   ]
  },
  {
   "cell_type": "markdown",
   "metadata": {},
   "source": [
    "# Tables\n",
    "A table is a named collection of attributes (columns) and tuples (rows) of data.\n",
    "# Attributes\n",
    "An attribute is a **column** in a table."
   ]
  },
  {
   "cell_type": "code",
   "execution_count": null,
   "metadata": {},
   "outputs": [],
   "source": []
  }
 ],
 "metadata": {
  "interpreter": {
   "hash": "2651b1ba7e282bebfa470cad3801714d5f274e2ba2602d4903b52dbcc7b5f30b"
  },
  "kernelspec": {
   "display_name": "Python 3.9.7 64-bit ('base': conda)",
   "name": "python3"
  },
  "language_info": {
   "name": "python",
   "version": "3.9.7"
  },
  "orig_nbformat": 4
 },
 "nbformat": 4,
 "nbformat_minor": 2
}
