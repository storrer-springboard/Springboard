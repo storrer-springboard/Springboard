{
 "cells": [
  {
   "cell_type": "markdown",
   "metadata": {},
   "source": [
    "# Functions and links to docs\n",
    "# Aggregate Functions\n",
    "Aggregate functions perform a calculation on a set of rows and return a single row.\n",
    "PostgreSQL provides all the standard SQL aggregate functions.\n",
    "## Aggregate functions are used in conjunction with the GROUP BY clause.\n",
    "A `GROUP BY` clause splits a resultset into groups of rows and aggregate functions perform calculations on them.\n",
    "### Other Functions: SQLZoo: [sqlzoo functions page](https://sqlzoo.net/wiki/FUNCTIONS)\n",
    "# Math Functions in postgresql 14: [postgresql-math-functions](https://www.postgresql.org/docs/14/functions-math.html)\n",
    "# String Functions [postgresdocs](https://www.postgresql.org/docs/12/functions-string.html)\n",
    "# string functions postgres 14: https://www.postgresql.org/docs/14/functions-string.html\n",
    "# Comparison Functions and operators [postgresdocs](https://www.postgresql.org/docs/14/functions-comparison.html)"
   ]
  },
  {
   "cell_type": "code",
   "execution_count": null,
   "metadata": {},
   "outputs": [],
   "source": [
    "\n",
    "/* For example, if we wanted to count how many records there are for each category,\n",
    "PostgreSQL first groups the data and then counts it. */\n",
    "select category,count(*) from posts group by category;"
   ]
  },
  {
   "cell_type": "markdown",
   "metadata": {},
   "source": [
    "# AVG(): This function returns the average value.\n",
    "AVG gives the average (the mean) of a whole column or a group of rows for a single column of values.\n",
    "\n",
    "AVG is an aggregate function it is normally used with GROUP BY.\n",
    "\n",
    "The mean of the values 2, 5, 5 is (2+5+5)/3 = 12/3 = 4, you divide by 3 because there are 3 numbers in this example.\n",
    "\n",
    "NULL values do not contribute to the calculation.\n",
    "```\n",
    "SELECT region, AVG(population)\n",
    "FROM bbc\n",
    "GROUP BY region;\n",
    "```"
   ]
  },
  {
   "cell_type": "markdown",
   "metadata": {},
   "source": [
    "# COUNT(): This function returns the number of values."
   ]
  },
  {
   "cell_type": "markdown",
   "metadata": {},
   "source": [
    "# MAX(): This function returns the maximum value."
   ]
  },
  {
   "cell_type": "markdown",
   "metadata": {},
   "source": [
    "# MIN(): This function returns the minimum value."
   ]
  },
  {
   "cell_type": "markdown",
   "metadata": {},
   "source": [
    "# SUM(): This function returns the sum of values."
   ]
  },
  {
   "cell_type": "markdown",
   "metadata": {},
   "source": [
    "# Round(): This function returns the rounded value.\n",
    "Arguments for Round() function are:\n",
    "- Value to be rounded\n",
    "- Number of decimal places to round to (default is 0), and negative values indicate rounding to the left of the decimal point; this will round to the nearest 10 (when p is -1) or 100 (when p is -2) or 1000 (when p is -3) etc.\n",
    "[round on postgres.org/docs/12/functions.html#ROUND]: https://www.postgresql.org/docs/12/functions-math.html#ROUND [round on sqlzoo]: https://sqlzoo.net/wiki/ROUND\n",
    "```sql\n",
    "ROUND(7253.86, 0)   -- ->  7254\n",
    "ROUND(7253.86, 1)   -- ->  7253.9\n",
    "ROUND(7253.86,-3)   -- ->  7000\n",
    "```"
   ]
  },
  {
   "cell_type": "markdown",
   "metadata": {},
   "source": [
    "# `left(s,n)`allows you to extract the first `n` characters from the start of string `s`.\n",
    "```sql\n",
    "LEFT('Hello world', 4) -> 'Hell'     \n",
    "```\n",
    "[postgresdocs](https://www.postgresql.org/docs/12/functions-string.html)\n",
    "[sqlzoo](https://sqlzoo.net/wiki/LEFT)\n"
   ]
  },
  {
   "cell_type": "code",
   "execution_count": null,
   "metadata": {},
   "outputs": [],
   "source": [
    "LEFT('Hello world', 4) -- 'Hell'     \n",
    "RIGHT('Hello world', 4) -- 'orld'\n",
    "SELECT name,\n",
    "       LEFT(name, 3)\n",
    "  FROM bbc\n",
    "  /*  */"
   ]
  },
  {
   "cell_type": "markdown",
   "metadata": {},
   "source": [
    "# `right(s,n)` allows you to extract the last `n` characters from the end of string `s`.\n",
    "[sqlzoo](https://sqlzoo.net/wiki/RIGHT)\n",
    "\n",
    "`right ( string text, n integer )`\n",
    "Return Value: `text`\n",
    "\n",
    "Returns last n characters in the string, or when n is negative, returns all but first |n| characters.\n",
    "\n",
    "`right('abcde', 2)` → de\n",
    "\n",
    "[postgresdocs](https://www.postgresql.org/docs/14/functions-string.html#:~:text=right%20(%20string%20text,abcde%27%2C%202)%20%E2%86%92%20de)"
   ]
  },
  {
   "cell_type": "code",
   "execution_count": null,
   "metadata": {},
   "outputs": [],
   "source": [
    "SELECT name,\n",
    "       RIGHT(name, 3)\n",
    "  FROM bbc\n",
    "/*Result:\n",
    "name    |\tRIGHT(name, 3)\n",
    "------+----------\n",
    "Angola  |\tola\n",
    "Benin   |\tnin\n",
    "Botswana|\tana\n",
    "*/"
   ]
  },
  {
   "cell_type": "code",
   "execution_count": null,
   "metadata": {},
   "outputs": [],
   "source": [
    "/*Show the name and capital where the name and the capital have the same number of characters.*/  \n",
    "select name,capital from world where length(name)=length(capital);"
   ]
  },
  {
   "cell_type": "code",
   "execution_count": null,
   "metadata": {},
   "outputs": [],
   "source": [
    "/*  Show the name and the capital where the first letters of each match.\n",
    "Use the function LEFT to isolate the first character.\n",
    "Don't include countries where the name and capital are identical. */\n",
    "    */\n",
    "select name, capital from world where LEFT(name,1)=LEFT(capital,1) and name<>capital;"
   ]
  },
  {
   "cell_type": "markdown",
   "metadata": {},
   "source": [
    "# Comparison Functions and Operators\n",
    "## A note on \"not equal\"\n",
    "`<>` is the standard SQL notation for “not equal”. `!=` is an alias, which is converted to `<>` at a very early stage of parsing. Hence, it is not possible to implement `!=` and `<>` operators that do different things.\n",
    "## What can be compared?\n",
    "These comparison operators are available for **all built-in data types that have a natural ordering**, including **numeric, string, and date/time types**. In addition, **arrays, composite types, and ranges can be compared if their component data types are comparable.**\n",
    "- It is usually possible to compare values of related data types as well; for example integer > bigint will work. \n",
    "## All comparison operators are **binary operators**.\n",
    "Thus, expressions like `1 < 2 < 3` **are not valid** (because there is no < operator to compare a Boolean value with 3). Use the `BETWEEN` predicates shown below to perform range tests.\n",
    "## What is the result of the comparison? A BOOLEAN!\n",
    "```sql\n",
    "--Less than\n",
    "datatype < datatype\n",
    "--Greater than\n",
    "datatype > datatype\n",
    "--Less than or equal to\n",
    "datatype <= datatype\n",
    "--Greater than or equal to\n",
    "datatype >= datatype\n",
    "-- Equal\n",
    "datatype = datatype \n",
    "--Not equal\n",
    "datatype <> datatype\n",
    "--Not equal (alias)\n",
    "datatype != datatype\n",
    "```"
   ]
  }
 ],
 "metadata": {
  "kernelspec": {
   "display_name": "SQL",
   "language": "SQL",
   "name": "python3712jvsc74a57bd00aba4513e212030ab87d94c02b915be6719b318de8d02a9386e2640cb329564f"
  },
  "language_info": {
   "codemirror_mode": "sql",
   "file_extension": ".sql",
   "mimetype": "",
   "name": "SQL",
   "nbconverter_exporter": "",
   "version": ""
  },
  "orig_nbformat": 4
 },
 "nbformat": 4,
 "nbformat_minor": 2
}
